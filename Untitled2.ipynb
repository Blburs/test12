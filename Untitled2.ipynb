{
 "cells": [
  {
   "cell_type": "code",
   "execution_count": 47,
   "id": "205c8698",
   "metadata": {},
   "outputs": [],
   "source": [
    "class ATM():\n",
    "    \n",
    "    def __init__(self,para):\n",
    "        self.para = para\n",
    "        self.islem = 0\n",
    "        \n",
    "        \n",
    "        \n",
    "    \n",
    "    def bilgi_al(self):\n",
    "        print(\"{} paranız kalmıştır.{} tane işlem yaptınız.\".format(self.para,self.islem))\n",
    "        \n",
    "    def para_ekle(self,ekle):\n",
    "        self.para += ekle\n",
    "        self.islem += 1\n",
    "    \n",
    "    def para_cek(self,cek):\n",
    "        self.para -= cek\n",
    "        self.islem += 1\n",
    "    \n",
    "        \n",
    "    \n",
    "    "
   ]
  },
  {
   "cell_type": "code",
   "execution_count": 48,
   "id": "f3a9e918",
   "metadata": {},
   "outputs": [],
   "source": [
    "ATM_calistir = ATM(300)"
   ]
  },
  {
   "cell_type": "code",
   "execution_count": 46,
   "id": "1871b4ae",
   "metadata": {},
   "outputs": [
    {
     "name": "stdout",
     "output_type": "stream",
     "text": [
      "0 paranız kalmıştır.3 tane işlem yaptınız.\n"
     ]
    }
   ],
   "source": [
    "ATM_calistir.bilgi_al()"
   ]
  },
  {
   "cell_type": "code",
   "execution_count": 45,
   "id": "9bd0d0c2",
   "metadata": {},
   "outputs": [],
   "source": [
    "ATM_calistir.para_ekle(670)"
   ]
  },
  {
   "cell_type": "code",
   "execution_count": 43,
   "id": "744ebbbf",
   "metadata": {},
   "outputs": [],
   "source": [
    "ATM_calistir.para_cek(1000)"
   ]
  },
  {
   "cell_type": "code",
   "execution_count": null,
   "id": "9cb3aa2c",
   "metadata": {},
   "outputs": [],
   "source": []
  }
 ],
 "metadata": {
  "kernelspec": {
   "display_name": "Python 3 (ipykernel)",
   "language": "python",
   "name": "python3"
  },
  "language_info": {
   "codemirror_mode": {
    "name": "ipython",
    "version": 3
   },
   "file_extension": ".py",
   "mimetype": "text/x-python",
   "name": "python",
   "nbconvert_exporter": "python",
   "pygments_lexer": "ipython3",
   "version": "3.11.4"
  }
 },
 "nbformat": 4,
 "nbformat_minor": 5
}
