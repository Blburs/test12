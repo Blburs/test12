{
 "cells": [
  {
   "cell_type": "code",
   "execution_count": 2,
   "id": "0d4643d2",
   "metadata": {},
   "outputs": [],
   "source": [
    "class Hava():\n",
    "    \n",
    "    def __init__(self,hava_durumu,sıcaklık):\n",
    "        self.hava_durumu = hava_durumu\n",
    "        self.sıcaklık = sıcaklık\n",
    "        \n",
    "        \n",
    "\n"
   ]
  },
  {
   "cell_type": "code",
   "execution_count": 3,
   "id": "01d17c5e",
   "metadata": {},
   "outputs": [],
   "source": [
    "Edirne = Hava(\"bulutlu\",\"32 derece\")"
   ]
  },
  {
   "cell_type": "code",
   "execution_count": 4,
   "id": "9bc8578d",
   "metadata": {},
   "outputs": [
    {
     "data": {
      "text/plain": [
       "'32 derece'"
      ]
     },
     "execution_count": 4,
     "metadata": {},
     "output_type": "execute_result"
    }
   ],
   "source": [
    "Edirne.sıcaklık"
   ]
  },
  {
   "cell_type": "code",
   "execution_count": null,
   "id": "d6ea9353",
   "metadata": {},
   "outputs": [],
   "source": []
  }
 ],
 "metadata": {
  "kernelspec": {
   "display_name": "Python 3 (ipykernel)",
   "language": "python",
   "name": "python3"
  },
  "language_info": {
   "codemirror_mode": {
    "name": "ipython",
    "version": 3
   },
   "file_extension": ".py",
   "mimetype": "text/x-python",
   "name": "python",
   "nbconvert_exporter": "python",
   "pygments_lexer": "ipython3",
   "version": "3.11.4"
  }
 },
 "nbformat": 4,
 "nbformat_minor": 5
}
