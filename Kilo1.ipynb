{
 "cells": [
  {
   "cell_type": "code",
   "execution_count": null,
   "id": "6c55e007",
   "metadata": {},
   "outputs": [],
   "source": [
    "kilo = float(input(\"Kilonuz kaç?: \"))\n",
    "if kilo < 50:\n",
    "    print(\"Siz zayıfsınız.\")\n",
    "elif kilo > 49:\n",
    "    if kilo < 70:\n",
    "        print(\"ortalama kilonuz var.\")\n",
    "    elif kilo < 70:\n",
    "        print(\"Kilonuz yüksek.\")"
   ]
  },
  {
   "cell_type": "code",
   "execution_count": null,
   "id": "3f18c5ab",
   "metadata": {},
   "outputs": [],
   "source": []
  }
 ],
 "metadata": {
  "kernelspec": {
   "display_name": "Python 3 (ipykernel)",
   "language": "python",
   "name": "python3"
  },
  "language_info": {
   "codemirror_mode": {
    "name": "ipython",
    "version": 3
   },
   "file_extension": ".py",
   "mimetype": "text/x-python",
   "name": "python",
   "nbconvert_exporter": "python",
   "pygments_lexer": "ipython3",
   "version": "3.11.4"
  }
 },
 "nbformat": 4,
 "nbformat_minor": 5
}
