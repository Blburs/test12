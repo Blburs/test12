{
 "cells": [
  {
   "cell_type": "code",
   "execution_count": null,
   "id": "23bd58f4",
   "metadata": {},
   "outputs": [],
   "source": [
    "kart_para = 500\n",
    "test = 1\n",
    "canta = \" \"\n",
    "while test == 1:\n",
    "    \n",
    "    print(\"Alabileceğin meyveler:\\nelma\\narmut\\nkarpuz\\n\")\n",
    "    alacak = input(str(\"Ne yapacaksın?satın almak için meyvenin ismini,fiyat öğrenmek için fiyat,Çantanızı ve paranızı görmek için Çanta yazınız.: \"))\n",
    "    if alacak == \"fiyat\":\n",
    "        print(\"Elma = 20,Armut = 50,karpuz = 100\")\n",
    "        alacak = input(str(\"Ne yapacaksın?satın almak için meyvenin ismini,fiyat öğrenmek için fiyat,paranızı ve çantanızı görmek için Çanta yazın.\"))\n",
    "    if alacak == \"elma\":\n",
    "        canta += \"Elma,\"\n",
    "        kart_para - 20\n",
    "    elif alacak == \"armut\":\n",
    "        canta += \"Armut,\"\n",
    "        kart_para - 50\n",
    "    elif alacak == \"karpuz\":\n",
    "        canta += \"Karpuz,\"\n",
    "        kart_para - 100\n",
    "    elif alacak == \"Çanta\":\n",
    "        print(canta,kart_para,\"paranız kalmıştır\")\n",
    "        \n",
    "    \n",
    "    \n",
    "    "
   ]
  },
  {
   "cell_type": "code",
   "execution_count": null,
   "id": "f64fa139",
   "metadata": {},
   "outputs": [],
   "source": []
  }
 ],
 "metadata": {
  "kernelspec": {
   "display_name": "Python 3 (ipykernel)",
   "language": "python",
   "name": "python3"
  },
  "language_info": {
   "codemirror_mode": {
    "name": "ipython",
    "version": 3
   },
   "file_extension": ".py",
   "mimetype": "text/x-python",
   "name": "python",
   "nbconvert_exporter": "python",
   "pygments_lexer": "ipython3",
   "version": "3.11.4"
  }
 },
 "nbformat": 4,
 "nbformat_minor": 5
}
