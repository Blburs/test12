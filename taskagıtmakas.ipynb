{
 "cells": [
  {
   "cell_type": "code",
   "execution_count": 10,
   "id": "efdf2c5c",
   "metadata": {},
   "outputs": [
    {
     "name": "stdout",
     "output_type": "stream",
     "text": [
      "Taş kağıt makas oyununda ne kullanacaksın?: taş\n",
      "bilgisayar makas tuttu.kazandın!\n"
     ]
    }
   ],
   "source": [
    "import random\n",
    "bilgisayar = 0\n",
    "\n",
    "if random.randint(1,3) == 1:\n",
    "    bilgisayar = \"taş\"\n",
    "elif random.randint(1,3) == 2:\n",
    "    bilgisayar = \"kağıt\"\n",
    "elif random.randint(1,3) == 3:\n",
    "    bilgisayar = \"makas\"\n",
    "    \n",
    "oyuncu = str(input(\"Taş kağıt makas oyununda ne kullanacaksın?: \"))\n",
    "\n",
    "if bilgisayar == \"taş\":\n",
    "    if oyuncu == \"kağıt\":\n",
    "        print(\"bilgisayar\",bilgisayar,\" tuttu. kazandın!\")\n",
    "    elif oyuncu == \"makas\":\n",
    "        print(\"bilgisayar\",bilgisayar,\" tuttu. kaybettin\")\n",
    "    elif oyuncu == \"taş\":\n",
    "        print(\"bilgisayar\",bilgisayar,\" tuttu .berabere\")\n",
    "        \n",
    "if bilgisayar == \"kağıt\":\n",
    "    if oyuncu == \"makas\":\n",
    "        print(\"bilgisayar\",bilgisayar,\"tuttu.kazandın!\")\n",
    "    elif oyuncu == \"taş\":\n",
    "        print(\"bilgisayar\",bilgisayar,\"tuttu.kaybettin\")\n",
    "    elif oyuncu == \"kağıt\":\n",
    "        print(\"bilgisayar\",bilgisayar,\"tuttu.berabere\")\n",
    "        \n",
    "if bilgisayar == \"makas\":\n",
    "    if oyuncu == \"taş\":\n",
    "        print(\"bilgisayar\",bilgisayar,\"tuttu.kazandın!\")\n",
    "    elif oyuncu == \"kağıt\":\n",
    "        print(\"bilgisayar\",bilgisayar,\"tuttu.kaybettin\")\n",
    "    elif oyuncu == \"makas\":\n",
    "        print(\"bilgisayar\",bilgisayar,\"tuttu.berabere\")"
   ]
  },
  {
   "cell_type": "code",
   "execution_count": null,
   "id": "a945139c",
   "metadata": {},
   "outputs": [],
   "source": []
  },
  {
   "cell_type": "code",
   "execution_count": null,
   "id": "b7affe11",
   "metadata": {},
   "outputs": [],
   "source": []
  }
 ],
 "metadata": {
  "kernelspec": {
   "display_name": "Python 3 (ipykernel)",
   "language": "python",
   "name": "python3"
  },
  "language_info": {
   "codemirror_mode": {
    "name": "ipython",
    "version": 3
   },
   "file_extension": ".py",
   "mimetype": "text/x-python",
   "name": "python",
   "nbconvert_exporter": "python",
   "pygments_lexer": "ipython3",
   "version": "3.11.4"
  }
 },
 "nbformat": 4,
 "nbformat_minor": 5
}
