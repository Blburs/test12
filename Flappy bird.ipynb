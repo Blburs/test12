{
 "cells": [
  {
   "cell_type": "code",
   "execution_count": 2,
   "id": "efd57e17",
   "metadata": {},
   "outputs": [
    {
     "name": "stdout",
     "output_type": "stream",
     "text": [
      "Your elevation is 5 , and the first pipe is at 8 and the second one is at 1 and you are going to reach the pipes in 5 frames.You also have 0 points\n",
      "\n",
      "are you going to jump for 3 elevation?type 1 for jumping,0 for nothing.: 1\n",
      "\n",
      "Your elevation is 8 , and the first pipe is at 8 and the second one is at 1 and you are going to reach the pipes in 4 frames.You also have 0 points\n",
      "\n",
      "are you going to jump for 3 elevation?type 1 for jumping,0 for nothing.: 0\n",
      "\n",
      "Your elevation is 7 , and the first pipe is at 8 and the second one is at 1 and you are going to reach the pipes in 3 frames.You also have 0 points\n",
      "\n",
      "are you going to jump for 3 elevation?type 1 for jumping,0 for nothing.: 1\n",
      "\n",
      "Your elevation is 10 , and the first pipe is at 8 and the second one is at 1 and you are going to reach the pipes in 2 frames.You also have 0 points\n",
      "\n",
      "are you going to jump for 3 elevation?type 1 for jumping,0 for nothing.: 1\n",
      "\n",
      "Your elevation is 13 , and the first pipe is at 8 and the second one is at 1 and you are going to reach the pipes in 1 frames.You also have 0 points\n",
      "\n",
      "are you going to jump for 3 elevation?type 1 for jumping,0 for nothing.: 1\n",
      "\n",
      "You lost\n"
     ]
    }
   ],
   "source": [
    "y = 5\n",
    "score = 0\n",
    "loop = 1\n",
    "import random\n",
    "pipe1 = random.randint(1,9)\n",
    "pipe2 = random.randint(1,9)\n",
    "distance = 5\n",
    "if pipe2 == pipe1:\n",
    "    pipe2 = random.randint(1,9)\n",
    "while loop == 1:\n",
    "    print(\"Your elevation is {} , and the first pipe is at {} and the second one is at {} and you are going to reach the pipes in {} frames.You also have {} points\".format(y,pipe1,pipe2,distance,score))\n",
    "    choice = int(input(\"are you going to jump for 3 elevation?type 1 for jumping,0 for nothing.: \"))\n",
    "    print(\"---------------------------------------------------------------------------------------------------------\")\n",
    "    if choice == 1:\n",
    "        y += 4\n",
    "    elif choice == 2:\n",
    "        y += 0\n",
    "    y -= 1\n",
    "    distance -= 1\n",
    "    if distance == 0:\n",
    "        if y >= pipe1:\n",
    "            print(\"You lost\")\n",
    "            break\n",
    "        elif y <= pipe2:\n",
    "            print(\"You lost\")\n",
    "            break\n",
    "            \n",
    "        else:\n",
    "            pipe1 = random.randint(1,9)\n",
    "            pipe2 = random.randint(1,9)\n",
    "            score += 1\n",
    "    \n",
    "    \n",
    "    \n",
    "    \n",
    "    \n",
    "    \n",
    "\n",
    "    \n"
   ]
  },
  {
   "cell_type": "markdown",
   "id": "73dcde33",
   "metadata": {},
   "source": [
    "1# \n",
    "\n"
   ]
  }
 ],
 "metadata": {
  "kernelspec": {
   "display_name": "Python 3 (ipykernel)",
   "language": "python",
   "name": "python3"
  },
  "language_info": {
   "codemirror_mode": {
    "name": "ipython",
    "version": 3
   },
   "file_extension": ".py",
   "mimetype": "text/x-python",
   "name": "python",
   "nbconvert_exporter": "python",
   "pygments_lexer": "ipython3",
   "version": "3.11.4"
  }
 },
 "nbformat": 4,
 "nbformat_minor": 5
}
