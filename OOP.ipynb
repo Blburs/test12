{
 "cells": [
  {
   "cell_type": "code",
   "execution_count": 32,
   "id": "a216d1fa",
   "metadata": {},
   "outputs": [],
   "source": [
    "class Bilgisayar():\n",
    "    \n",
    "    def __init__ (self,model,islemci,boyut):\n",
    "        self.model = model\n",
    "        self.islemci = islemci\n",
    "        self.boyut = boyut\n",
    "\n",
    "    "
   ]
  },
  {
   "cell_type": "code",
   "execution_count": 33,
   "id": "9cb1d6f4",
   "metadata": {},
   "outputs": [],
   "source": [
    "Monster = Bilgisayar(\"notebook\",\"16G\",\"70cm\")"
   ]
  },
  {
   "cell_type": "code",
   "execution_count": 36,
   "id": "aec1ad16",
   "metadata": {},
   "outputs": [
    {
     "data": {
      "text/plain": [
       "'70cm'"
      ]
     },
     "execution_count": 36,
     "metadata": {},
     "output_type": "execute_result"
    }
   ],
   "source": [
    "Monster.boyut\n"
   ]
  },
  {
   "cell_type": "code",
   "execution_count": 1,
   "id": "c49b3001",
   "metadata": {},
   "outputs": [],
   "source": [
    "class Mudurler():\n",
    "    def __init__(self,ad,soyad,no):\n",
    "        print(\"müdürün init fonksiyonu\")\n",
    "        self.ad = ad\n",
    "        self.soyad = soyad\n",
    "        self.no = no\n",
    "    def bilgi_alma(self):\n",
    "        print(\"Personel bilgisi: \")\n",
    "        print(\"Ad: {}/n soyad: {}/n no {}/n \".format(self,self.ad,self.soyad,self.no))\n",
    "    \n",
    "    \n",
    "    \n",
    "    \n",
    "    \n",
    "    \n",
    "\n",
    "    "
   ]
  },
  {
   "cell_type": "code",
   "execution_count": 9,
   "id": "b5a531db",
   "metadata": {},
   "outputs": [
    {
     "name": "stdout",
     "output_type": "stream",
     "text": [
      "müdürün init fonksiyonu\n"
     ]
    }
   ],
   "source": [
    "Arda = Mudurler(\"Arda\",\"Adalı\",32)"
   ]
  },
  {
   "cell_type": "code",
   "execution_count": 10,
   "id": "cfb4129c",
   "metadata": {},
   "outputs": [
    {
     "data": {
      "text/plain": [
       "32"
      ]
     },
     "execution_count": 10,
     "metadata": {},
     "output_type": "execute_result"
    }
   ],
   "source": [
    "Arda.no"
   ]
  },
  {
   "cell_type": "code",
   "execution_count": null,
   "id": "de706d20",
   "metadata": {},
   "outputs": [],
   "source": []
  }
 ],
 "metadata": {
  "kernelspec": {
   "display_name": "Python 3 (ipykernel)",
   "language": "python",
   "name": "python3"
  },
  "language_info": {
   "codemirror_mode": {
    "name": "ipython",
    "version": 3
   },
   "file_extension": ".py",
   "mimetype": "text/x-python",
   "name": "python",
   "nbconvert_exporter": "python",
   "pygments_lexer": "ipython3",
   "version": "3.11.4"
  }
 },
 "nbformat": 4,
 "nbformat_minor": 5
}
